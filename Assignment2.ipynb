{
 "cells": [
  {
   "cell_type": "code",
   "execution_count": 1,
   "id": "5b39a75e-661b-4244-8ed5-cdd923699f3f",
   "metadata": {},
   "outputs": [],
   "source": [
    "#Q1"
   ]
  },
  {
   "cell_type": "code",
   "execution_count": 4,
   "id": "f3e41c13-8133-4a2c-9bed-4a275dd07c35",
   "metadata": {},
   "outputs": [
    {
     "name": "stdin",
     "output_type": "stream",
     "text": [
      "Enter Your marks 65\n"
     ]
    },
    {
     "name": "stdout",
     "output_type": "stream",
     "text": [
      "You got Grade C\n"
     ]
    }
   ],
   "source": [
    "marks = int(input(\"Enter Your marks\"))\n",
    "if marks > 90:\n",
    "    print(\"You got Grade A\")\n",
    "elif marks > 80 and marks <=90:\n",
    "    print(\"You got Grade B\")\n",
    "elif marks >= 60 and marks <= 80:\n",
    "    print(\"You got Grade C\")\n",
    "elif marks < 60:\n",
    "    print(\"You got Grade D\")\n"
   ]
  },
  {
   "cell_type": "code",
   "execution_count": 5,
   "id": "38580e6a-2cbd-4794-b323-e18e8944b1ba",
   "metadata": {},
   "outputs": [],
   "source": [
    "#Q2"
   ]
  },
  {
   "cell_type": "code",
   "execution_count": 3,
   "id": "2958b885-4a6e-4592-a672-e6eda38550a8",
   "metadata": {},
   "outputs": [
    {
     "name": "stdin",
     "output_type": "stream",
     "text": [
      "Enter Your cost price 50000\n"
     ]
    },
    {
     "name": "stdout",
     "output_type": "stream",
     "text": [
      "2500.0  is the road tax to be paid\n"
     ]
    }
   ],
   "source": [
    "cost_price = float(input(\"Enter Your cost price\"))\n",
    "if cost_price > 100000:\n",
    "    tax = 0.15\n",
    "elif cost_price >50000 and cost_price <= 100000:\n",
    "    tax = 0.10\n",
    "elif cost_price <=50000:\n",
    "    tax = 0.05\n",
    "    road_tax = cost_price * tax\n",
    "    print(road_tax, \" is the road tax to be paid\")                  "
   ]
  },
  {
   "cell_type": "code",
   "execution_count": 4,
   "id": "a075d43e-c24b-46a2-8e71-5dd4c48032f6",
   "metadata": {},
   "outputs": [],
   "source": [
    "#Q3"
   ]
  },
  {
   "cell_type": "code",
   "execution_count": 8,
   "id": "308aad3e-f4be-4fae-8f9e-47514ee47f08",
   "metadata": {},
   "outputs": [
    {
     "name": "stdin",
     "output_type": "stream",
     "text": [
      "Enter city name Agra\n"
     ]
    },
    {
     "name": "stdout",
     "output_type": "stream",
     "text": [
      "Taj Mahal Monument\n"
     ]
    }
   ],
   "source": [
    "city = str(input(\"Enter city name\"))\n",
    "if city == \"Delhi\":\n",
    "            print(\"Red Fort Monument\")\n",
    "elif city == \"Agra\":\n",
    "           print(\"Taj Mahal Monument\")\n",
    "elif city == \"Jaipur\":\n",
    "           print(\"Jal Mahal Monument\")               "
   ]
  },
  {
   "cell_type": "code",
   "execution_count": 9,
   "id": "bbc7abe6-e865-45c8-8cc9-613146e2dc74",
   "metadata": {},
   "outputs": [],
   "source": [
    "#Q4"
   ]
  },
  {
   "cell_type": "code",
   "execution_count": 10,
   "id": "d9276b99-60b7-48e8-8684-740de6233fc7",
   "metadata": {},
   "outputs": [
    {
     "name": "stdin",
     "output_type": "stream",
     "text": [
      "Enter number <= 10 20\n"
     ]
    },
    {
     "name": "stdout",
     "output_type": "stream",
     "text": [
      "Number is not divisible by 3\n"
     ]
    }
   ],
   "source": [
    "number = int(input(\"Enter number <= 10\"))\n",
    "if number % 3 == 0:\n",
    "    print(\"Number is divisible by 3\")\n",
    "else :\n",
    "    print(\"Number is not divisible by 3\")"
   ]
  },
  {
   "cell_type": "code",
   "execution_count": null,
   "id": "44cec979-492e-4468-827e-ac98e56059f1",
   "metadata": {},
   "outputs": [],
   "source": [
    "Q5. Why and when to use while loop in python give a detailed description with example? \n",
    "Ans. Python while loop is used to run a block code until a certain condition is met. Here, A while loop evaluates the condition. If the condition evaluates to True , the code inside the while loop is executed.\n"
   ]
  },
  {
   "cell_type": "code",
   "execution_count": 12,
   "id": "2160a63c-5b68-4572-bf62-56631ea21475",
   "metadata": {},
   "outputs": [
    {
     "name": "stdout",
     "output_type": "stream",
     "text": [
      "1\n",
      "2\n",
      "3\n",
      "4\n",
      "5\n"
     ]
    }
   ],
   "source": [
    "i = 1\n",
    "n = 5\n",
    "\n",
    "while i<=n:\n",
    "    print(i)\n",
    "    i = i+1"
   ]
  },
  {
   "cell_type": "code",
   "execution_count": 13,
   "id": "366b2cbf-28fc-4699-8e1e-963ca7d8805c",
   "metadata": {},
   "outputs": [],
   "source": [
    "#Q6."
   ]
  },
  {
   "cell_type": "code",
   "execution_count": 27,
   "id": "877437e8-c118-4bd7-a9d9-91f9a15145fa",
   "metadata": {},
   "outputs": [
    {
     "name": "stdin",
     "output_type": "stream",
     "text": [
      "Enter number of rows :  4\n"
     ]
    },
    {
     "name": "stdout",
     "output_type": "stream",
     "text": [
      "* \n",
      "* * \n",
      "* * * \n",
      "* * * * \n",
      "* * * * * \n"
     ]
    }
   ],
   "source": [
    "n = int(input(\"Enter number of rows : \"))\n",
    "row = 0\n",
    "while row <=n:\n",
    "    star = row + 1\n",
    "    while star > 0:\n",
    "        print(\"*\", end = \" \") \n",
    "        star = star - 1\n",
    "    row = row + 1\n",
    "    print()\n",
    "        "
   ]
  },
  {
   "cell_type": "code",
   "execution_count": 29,
   "id": "160a2123-2ef3-4555-9db6-8ef12c018ba3",
   "metadata": {},
   "outputs": [
    {
     "name": "stdin",
     "output_type": "stream",
     "text": [
      "Enter number of rows :  4\n"
     ]
    },
    {
     "name": "stdout",
     "output_type": "stream",
     "text": [
      "   * \n",
      "  * * \n",
      " * * * \n",
      "* * * * \n"
     ]
    }
   ],
   "source": [
    "n = int(input(\"Enter number of rows : \"))\n",
    "row = 0\n",
    "while row<n:\n",
    "    space = n - row -1\n",
    "    while space > 0:\n",
    "        print(end=\" \")\n",
    "        space = space-1\n",
    "    star = row + 1\n",
    "    while star > 0:\n",
    "        print(\"*\",end = \" \")\n",
    "        star = star - 1\n",
    "    row = row + 1\n",
    "    print()        "
   ]
  },
  {
   "cell_type": "code",
   "execution_count": 30,
   "id": "69605f95-e03c-4809-82dc-e7c86e2f7969",
   "metadata": {},
   "outputs": [
    {
     "name": "stdin",
     "output_type": "stream",
     "text": [
      "Enter number of rows :  3\n"
     ]
    },
    {
     "name": "stdout",
     "output_type": "stream",
     "text": [
      "1 \n",
      "1 2 \n",
      "1 2 3 \n"
     ]
    }
   ],
   "source": [
    "n = int(input(\"Enter number of rows : \"))\n",
    "i = 1\n",
    "while i <= n:\n",
    "    j = 1\n",
    "    while j<=i:\n",
    "        print(j ,end = \" \")\n",
    "        j = j + 1\n",
    "    print()\n",
    "    i = i + 1"
   ]
  },
  {
   "cell_type": "code",
   "execution_count": 31,
   "id": "cd8a22ba-a87f-427c-8af3-ef752587e893",
   "metadata": {},
   "outputs": [],
   "source": [
    "#Q7"
   ]
  },
  {
   "cell_type": "code",
   "execution_count": 34,
   "id": "17799276-13a7-4d20-a2d8-7403bbf7b56c",
   "metadata": {},
   "outputs": [
    {
     "name": "stdout",
     "output_type": "stream",
     "text": [
      "10\n",
      "9\n",
      "8\n",
      "7\n",
      "6\n",
      "5\n",
      "4\n",
      "3\n",
      "2\n",
      "1\n"
     ]
    }
   ],
   "source": [
    "a = 10\n",
    "\n",
    "while a >0:\n",
    "    print(a)\n",
    "    a = a-1"
   ]
  },
  {
   "cell_type": "code",
   "execution_count": 35,
   "id": "25c9171d-2ad2-4ede-8a94-ddbf995ef76e",
   "metadata": {},
   "outputs": [],
   "source": [
    "#Q8"
   ]
  },
  {
   "cell_type": "code",
   "execution_count": 36,
   "id": "836b7e2d-ae05-4ed8-ae94-2485486009ec",
   "metadata": {},
   "outputs": [
    {
     "name": "stdout",
     "output_type": "stream",
     "text": [
      "10\n",
      "9\n",
      "8\n",
      "7\n",
      "6\n",
      "5\n",
      "4\n",
      "3\n",
      "2\n",
      "1\n"
     ]
    }
   ],
   "source": [
    "a = 10\n",
    "\n",
    "while a >0:\n",
    "    print(a)\n",
    "    a = a-1"
   ]
  },
  {
   "cell_type": "code",
   "execution_count": null,
   "id": "02745977-4f3e-4487-9ef7-6e0167f107b0",
   "metadata": {},
   "outputs": [],
   "source": []
  }
 ],
 "metadata": {
  "kernelspec": {
   "display_name": "Python 3 (ipykernel)",
   "language": "python",
   "name": "python3"
  },
  "language_info": {
   "codemirror_mode": {
    "name": "ipython",
    "version": 3
   },
   "file_extension": ".py",
   "mimetype": "text/x-python",
   "name": "python",
   "nbconvert_exporter": "python",
   "pygments_lexer": "ipython3",
   "version": "3.10.8"
  }
 },
 "nbformat": 4,
 "nbformat_minor": 5
}
