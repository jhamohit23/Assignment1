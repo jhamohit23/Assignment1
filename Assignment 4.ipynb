{
 "cells": [
  {
   "cell_type": "code",
   "execution_count": null,
   "id": "898a9fa0-23fe-4c55-a9b5-58b2a401b7a8",
   "metadata": {},
   "outputs": [],
   "source": [
    "#Q1.\n",
    "Ans. def or (define) keyword is used to create a function."
   ]
  },
  {
   "cell_type": "code",
   "execution_count": 19,
   "id": "f05ec83b-8f2a-4bff-94a8-21d4a3a67d17",
   "metadata": {},
   "outputs": [],
   "source": [
    "def odd_numbers(n):\n",
    "      return [x for x in range(n + 1) if x % 2 != 0]"
   ]
  },
  {
   "cell_type": "code",
   "execution_count": 20,
   "id": "4f34b637-1727-4bb5-895b-95ddb55a4f92",
   "metadata": {},
   "outputs": [
    {
     "name": "stdout",
     "output_type": "stream",
     "text": [
      "[1, 3, 5, 7, 9, 11, 13, 15, 17, 19, 21, 23, 25]\n"
     ]
    }
   ],
   "source": [
    "print(odd_numbers(25))"
   ]
  },
  {
   "cell_type": "code",
   "execution_count": null,
   "id": "1b307ec0-7cf8-489b-8bf5-719e05d82bcb",
   "metadata": {},
   "outputs": [],
   "source": [
    "#Q2\n",
    "Ans. *args - The special syntax *args in function definitions in python is used to pass a variable number of arguments to a function. It is used to pass a non-key worded, variable-length argument list. \n",
    "     **kwargs - The special syntax **kwargs in function definitions in python is used to pass a keyworded, variable-length argument list. We use the name kwargs with the double star. The reason is that the double star allows us to pass through keyword arguments (and any number of them).\n"
   ]
  },
  {
   "cell_type": "code",
   "execution_count": 21,
   "id": "9c845891-5344-4573-a954-e4ba70e9643d",
   "metadata": {},
   "outputs": [
    {
     "name": "stdout",
     "output_type": "stream",
     "text": [
      "Hello\n",
      "Welcome\n",
      "to\n",
      "GeeksforGeeks\n"
     ]
    }
   ],
   "source": [
    "def myFun(*argv):\n",
    "\tfor arg in argv:\n",
    "\t\tprint(arg)\n",
    "        \n",
    "myFun('Hello', 'Welcome', 'to', 'GeeksforGeeks')\n"
   ]
  },
  {
   "cell_type": "code",
   "execution_count": 22,
   "id": "8f4a016d-47db-4d57-929b-8d0a4ade01e8",
   "metadata": {},
   "outputs": [
    {
     "name": "stdout",
     "output_type": "stream",
     "text": [
      "first == Geeks\n",
      "mid == for\n",
      "last == Geeks\n"
     ]
    }
   ],
   "source": [
    "def myFun(**kwargs):\n",
    "\tfor key, value in kwargs.items():\n",
    "\t\tprint(\"%s == %s\" % (key, value))\n",
    "\n",
    "myFun(first='Geeks', mid='for', last='Geeks')\n"
   ]
  },
  {
   "cell_type": "code",
   "execution_count": null,
   "id": "7ffaea10-a814-465e-a63d-5c54ecae909e",
   "metadata": {},
   "outputs": [],
   "source": [
    "#Q3\n",
    "Ans. An iterator is an object that contains a countable number of values.\n",
    "     The __iter__() method acts similar, you can do operations (initializing etc.), but must always return the iterator object itself.\n",
    "     The __next__() method also allows you to do operations, and must return the next item in the sequence."
   ]
  },
  {
   "cell_type": "code",
   "execution_count": 23,
   "id": "03118c24-b63b-4176-91ae-36ae6d1dd776",
   "metadata": {},
   "outputs": [
    {
     "name": "stdout",
     "output_type": "stream",
     "text": [
      "2\n",
      "4\n",
      "6\n",
      "8\n",
      "10\n",
      "12\n",
      "14\n",
      "16\n",
      "18\n",
      "20\n"
     ]
    }
   ],
   "source": [
    "l = [2, 4, 6, 8, 10, 12, 14,16,18,20]\n",
    "mylist = iter(l)\n",
    "\n",
    "print(next(mylist))\n",
    "print(next(mylist))\n",
    "print(next(mylist))\n",
    "print(next(mylist))\n",
    "print(next(mylist))\n",
    "print(next(mylist))\n",
    "print(next(mylist))\n",
    "print(next(mylist))\n",
    "print(next(mylist))\n",
    "print(next(mylist))"
   ]
  },
  {
   "cell_type": "code",
   "execution_count": null,
   "id": "15b2554b-8453-40c7-b749-35cf7ba13b47",
   "metadata": {},
   "outputs": [],
   "source": [
    "#Q4\n",
    "Ans. A generator-function is defined like a normal function, but whenever it needs to generate a value, it does so with the yield keyword rather than return. If the body of a def contains yield, the function automatically becomes a generator function. \n",
    "     The yield keyword in Python controls the flow of a generator function. This is similar to a return statement used for returning values in Python."
   ]
  },
  {
   "cell_type": "code",
   "execution_count": 24,
   "id": "097113d4-1c4e-4b75-9bbe-6cac5620bb6a",
   "metadata": {},
   "outputs": [],
   "source": [
    "def test_fibo(n):\n",
    "    a,b = 0,1\n",
    "    for i in range(n):\n",
    "        yield a\n",
    "        a,b = b , a+b"
   ]
  },
  {
   "cell_type": "code",
   "execution_count": 25,
   "id": "86c0d561-cdcb-4089-a8d7-cb22fc22bba9",
   "metadata": {},
   "outputs": [
    {
     "name": "stdout",
     "output_type": "stream",
     "text": [
      "0\n",
      "1\n",
      "1\n",
      "2\n",
      "3\n",
      "5\n",
      "8\n",
      "13\n",
      "21\n",
      "34\n"
     ]
    }
   ],
   "source": [
    "for i in test_fibo(10):\n",
    "    print(i)"
   ]
  },
  {
   "cell_type": "code",
   "execution_count": 26,
   "id": "eb4f0395-8c50-4cad-9752-4cd01b50123b",
   "metadata": {},
   "outputs": [],
   "source": [
    "#Q6"
   ]
  },
  {
   "cell_type": "code",
   "execution_count": 1,
   "id": "0ecf64a1-7c49-46f0-b594-2562f257006f",
   "metadata": {},
   "outputs": [],
   "source": [
    "def test_fibo(n):\n",
    "    a,b = 0,1\n",
    "    while i <=n:\n",
    "        return a\n",
    "    a,b = b, a+b\n",
    "    \n",
    "        "
   ]
  },
  {
   "cell_type": "code",
   "execution_count": 3,
   "id": "2613dead-e521-42e7-bbe1-5cda5824be43",
   "metadata": {},
   "outputs": [],
   "source": [
    "#Q7"
   ]
  },
  {
   "cell_type": "code",
   "execution_count": 7,
   "id": "fa4501cb-5e97-49e1-a5cf-c37872cb8b35",
   "metadata": {},
   "outputs": [
    {
     "name": "stdout",
     "output_type": "stream",
     "text": [
      "['p', 'w', 's', 'k', 'i', 'l', 'l', 's']\n"
     ]
    }
   ],
   "source": [
    "l = [string for string in \"pwskills\"]\n",
    "print(l)"
   ]
  },
  {
   "cell_type": "code",
   "execution_count": null,
   "id": "109d7956-d88b-49e8-83f4-acd0ddf1d1a7",
   "metadata": {},
   "outputs": [],
   "source": [
    "#Q8"
   ]
  },
  {
   "cell_type": "code",
   "execution_count": 23,
   "id": "a97ae559-803b-4fe5-9fee-5a704cd168dc",
   "metadata": {},
   "outputs": [
    {
     "name": "stdin",
     "output_type": "stream",
     "text": [
      "Enter your number 525\n"
     ]
    },
    {
     "name": "stdout",
     "output_type": "stream",
     "text": [
      "Palindrome Number\n"
     ]
    }
   ],
   "source": [
    "i = int(input(\"Enter your number\"))\n",
    "rev = 0\n",
    "x = i\n",
    "while i>0:\n",
    "    rev = (rev*10) + i%10\n",
    "    i = i//10\n",
    "    if(x == rev):\n",
    "        print(\"Palindrome Number\")\n",
    "    "
   ]
  },
  {
   "cell_type": "code",
   "execution_count": 24,
   "id": "df039229-b139-4487-8fa0-65e9ca83f57b",
   "metadata": {},
   "outputs": [],
   "source": [
    "#Q9"
   ]
  },
  {
   "cell_type": "code",
   "execution_count": 25,
   "id": "ab5d428d-0314-43fc-9974-fd36ec170344",
   "metadata": {},
   "outputs": [
    {
     "name": "stdout",
     "output_type": "stream",
     "text": [
      "[1, 3, 5, 7, 9, 11, 13, 15, 17, 19, 21, 23, 25, 27, 29, 31, 33, 35, 37, 39, 41, 43, 45, 47, 49, 51, 53, 55, 57, 59, 61, 63, 65, 67, 69, 71, 73, 75, 77, 79, 81, 83, 85, 87, 89, 91, 93, 95, 97, 99]\n"
     ]
    }
   ],
   "source": [
    "l = [i for i in range(1,101) if i%2 != 0 ]\n",
    "print(l)"
   ]
  },
  {
   "cell_type": "code",
   "execution_count": 26,
   "id": "056e7717-6c72-4088-9d6d-9c054d4d9992",
   "metadata": {},
   "outputs": [
    {
     "data": {
      "text/plain": [
       "[1,\n",
       " 3,\n",
       " 5,\n",
       " 7,\n",
       " 9,\n",
       " 11,\n",
       " 13,\n",
       " 15,\n",
       " 17,\n",
       " 19,\n",
       " 21,\n",
       " 23,\n",
       " 25,\n",
       " 27,\n",
       " 29,\n",
       " 31,\n",
       " 33,\n",
       " 35,\n",
       " 37,\n",
       " 39,\n",
       " 41,\n",
       " 43,\n",
       " 45,\n",
       " 47,\n",
       " 49,\n",
       " 51,\n",
       " 53,\n",
       " 55,\n",
       " 57,\n",
       " 59,\n",
       " 61,\n",
       " 63,\n",
       " 65,\n",
       " 67,\n",
       " 69,\n",
       " 71,\n",
       " 73,\n",
       " 75,\n",
       " 77,\n",
       " 79,\n",
       " 81,\n",
       " 83,\n",
       " 85,\n",
       " 87,\n",
       " 89,\n",
       " 91,\n",
       " 93,\n",
       " 95,\n",
       " 97,\n",
       " 99]"
      ]
     },
     "execution_count": 26,
     "metadata": {},
     "output_type": "execute_result"
    }
   ],
   "source": [
    "list(filter(lambda x : x%2 != 0 , l))"
   ]
  },
  {
   "cell_type": "code",
   "execution_count": 27,
   "id": "04f8dc40-f75b-4ee0-b497-e38d4fb51235",
   "metadata": {},
   "outputs": [],
   "source": [
    "#Q6"
   ]
  },
  {
   "cell_type": "code",
   "execution_count": 32,
   "id": "efab4f0d-3f39-4463-a91b-0d50e5c04adb",
   "metadata": {},
   "outputs": [
    {
     "name": "stdin",
     "output_type": "stream",
     "text": [
      "Enter your number 10\n"
     ]
    },
    {
     "name": "stdout",
     "output_type": "stream",
     "text": [
      "0\n",
      "1\n",
      "1\n",
      "1\n",
      "2\n",
      "3\n",
      "5\n",
      "8\n",
      "13\n",
      "21\n",
      "34\n"
     ]
    }
   ],
   "source": [
    "n = int(input(\"Enter your number\"))\n",
    "x = 0\n",
    "y = 1\n",
    "z = 0\n",
    "print(x)\n",
    "print(y)\n",
    "i = 1\n",
    "while i<n:\n",
    "    x = y\n",
    "    y = z\n",
    "    z = x+y\n",
    "    i = i+1\n",
    "    print(z)"
   ]
  },
  {
   "cell_type": "code",
   "execution_count": 33,
   "id": "143c0db2-520a-4348-8bac-0559b841525d",
   "metadata": {},
   "outputs": [],
   "source": [
    "#Q5"
   ]
  },
  {
   "cell_type": "code",
   "execution_count": 43,
   "id": "c59e9ce2-1397-490d-96d9-b9fa09b98b10",
   "metadata": {},
   "outputs": [
    {
     "ename": "StopIteration",
     "evalue": "",
     "output_type": "error",
     "traceback": [
      "\u001b[0;31m---------------------------------------------------------------------------\u001b[0m",
      "\u001b[0;31mStopIteration\u001b[0m                             Traceback (most recent call last)",
      "Cell \u001b[0;32mIn[43], line 18\u001b[0m\n\u001b[1;32m     15\u001b[0m prime_gen \u001b[38;5;241m=\u001b[39m prime_numbers()\n\u001b[1;32m     17\u001b[0m \u001b[38;5;28;01mfor\u001b[39;00m i \u001b[38;5;129;01min\u001b[39;00m \u001b[38;5;28mrange\u001b[39m(\u001b[38;5;241m20\u001b[39m):\n\u001b[0;32m---> 18\u001b[0m     \u001b[38;5;28mprint\u001b[39m(\u001b[38;5;28;43mnext\u001b[39;49m\u001b[43m(\u001b[49m\u001b[43mprime_gen\u001b[49m\u001b[43m)\u001b[49m)\n",
      "\u001b[0;31mStopIteration\u001b[0m: "
     ]
    }
   ],
   "source": [
    "def prime_numbers():\n",
    "    primes = []\n",
    "    for number in range(2,100):\n",
    "        is_prime = True\n",
    "        for prime in primes:\n",
    "            if prime > number ** 0.5:\n",
    "                break\n",
    "            if number % prime == 0:\n",
    "                is_prime = False\n",
    "                break\n",
    "            if is_prime:\n",
    "                primes.append(number)\n",
    "                yield number\n",
    "                \n",
    "prime_gen = prime_numbers()\n",
    "\n",
    "for i in range(20):\n",
    "    print(next(prime_gen))"
   ]
  },
  {
   "cell_type": "code",
   "execution_count": 35,
   "id": "42abc49a-0c80-4f57-8b50-e6c2707a8d90",
   "metadata": {},
   "outputs": [],
   "source": []
  }
 ],
 "metadata": {
  "kernelspec": {
   "display_name": "Python 3 (ipykernel)",
   "language": "python",
   "name": "python3"
  },
  "language_info": {
   "codemirror_mode": {
    "name": "ipython",
    "version": 3
   },
   "file_extension": ".py",
   "mimetype": "text/x-python",
   "name": "python",
   "nbconvert_exporter": "python",
   "pygments_lexer": "ipython3",
   "version": "3.10.8"
  }
 },
 "nbformat": 4,
 "nbformat_minor": 5
}
