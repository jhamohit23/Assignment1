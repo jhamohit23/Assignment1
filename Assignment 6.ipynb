{
 "cells": [
  {
   "cell_type": "code",
   "execution_count": 1,
   "id": "97783e9d-222f-4149-8050-5b85d9c3a9dd",
   "metadata": {},
   "outputs": [],
   "source": [
    "#Q1"
   ]
  },
  {
   "cell_type": "code",
   "execution_count": null,
   "id": "ca569208-bfd5-40a0-9a49-1e9b0d7d748e",
   "metadata": {},
   "outputs": [],
   "source": [
    "Ans. Class - A class is considered as a blueprint of objects. We can think of the class as a sketch (prototype) of a house. It contains all the details about the floors, doors, windows, etc. Based on these descriptions we build the house. House is the object.\n",
    "class Bike:\n",
    "    name = \"\"\n",
    "    gear = 0\n",
    "    \n",
    "    Object - An object is called an instance of a class. For example, suppose Bike is a class then we can create objects like bike1, bike2, etc from the class.\n",
    "    "
   ]
  },
  {
   "cell_type": "code",
   "execution_count": 3,
   "id": "85e76dc6-86e5-4f20-ba0c-16a73e8a72cc",
   "metadata": {},
   "outputs": [
    {
     "name": "stdout",
     "output_type": "stream",
     "text": [
      "Name: Toyota Fortuner, Gears: 6 \n"
     ]
    }
   ],
   "source": [
    "# define a class\n",
    "class Car:\n",
    "    name = \"\"\n",
    "    gear = 0\n",
    "\n",
    "# create object of class\n",
    "Car1 = Car()\n",
    "\n",
    "# access attributes and assign new values\n",
    "Car1.gear = 6\n",
    "Car1.name = \"Toyota Fortuner\"\n",
    "\n",
    "print(f\"Name: {Car1.name}, Gears: {Car1.gear} \")"
   ]
  },
  {
   "cell_type": "code",
   "execution_count": 4,
   "id": "9a97be1b-55b7-43e9-8ed7-00b92fc0471b",
   "metadata": {},
   "outputs": [],
   "source": [
    "#Q2\n",
    "Ans. The four pillars of Object-Oriented Programming:\n",
    "    1. Abstraction\n",
    "    2. Encapsulation\n",
    "    3. Polymorphism\n",
    "    4. Inheritance"
   ]
  },
  {
   "cell_type": "code",
   "execution_count": null,
   "id": "d7a92c28-84fc-4399-8eba-9e17d07ce280",
   "metadata": {},
   "outputs": [],
   "source": [
    "#Q3\n",
    "Ans. The __init__ function is called every time an object is created from a class. The __init__ method lets the class initialize the object's attributes and serves no other purpose. It is only used within classes.\n"
   ]
  },
  {
   "cell_type": "code",
   "execution_count": 5,
   "id": "68d110f4-f45c-4a3b-b49e-5f91d20c69e4",
   "metadata": {},
   "outputs": [],
   "source": [
    "class pwskills1:\n",
    "    \n",
    "    \n",
    "    def __init__(sudh , phone_number , email_id , student_id ):\n",
    "        sudh.phone_number = phone_number\n",
    "        sudh.email_id = email_id\n",
    "        sudh.student_id = student_id\n",
    "        \n",
    "    def return_student_details(sudh):\n",
    "        return sudh.student_id , sudh.email_id , sudh.phone_number"
   ]
  },
  {
   "cell_type": "code",
   "execution_count": 6,
   "id": "46130ac7-c3a2-460f-90ea-ef354e745c94",
   "metadata": {},
   "outputs": [],
   "source": [
    "rohan = pwskills1(7000331653 , \"rohan23@gmail.com\" , 1010)"
   ]
  },
  {
   "cell_type": "code",
   "execution_count": 7,
   "id": "a02e64b9-faff-4c46-8bc4-df77abc514f0",
   "metadata": {},
   "outputs": [
    {
     "data": {
      "text/plain": [
       "'rohan23@gmail.com'"
      ]
     },
     "execution_count": 7,
     "metadata": {},
     "output_type": "execute_result"
    }
   ],
   "source": [
    "rohan.email_id"
   ]
  },
  {
   "cell_type": "code",
   "execution_count": null,
   "id": "9995c3ee-fdc7-4592-bc1f-073b448fbefe",
   "metadata": {},
   "outputs": [],
   "source": [
    "#Q4\n",
    "Ans. The self parameter is a reference to the current instance of the class, and is used to access variables that belongs to the class.\n",
    "\n",
    "It does not have to be named self , you can call it whatever you like, but it has to be the first parameter of any function in the class:"
   ]
  },
  {
   "cell_type": "code",
   "execution_count": 8,
   "id": "2cc79ae4-d9b7-4c74-9a38-89d24ae3b819",
   "metadata": {},
   "outputs": [],
   "source": [
    "#Q5\n",
    "Ans. Inheritance allows us to define a class that inherits all the methods and properties from another class. Parent class is the class being inherited from, also called base class. Child class is the class that inherits from another class, also called derived class.\n"
   ]
  },
  {
   "cell_type": "code",
   "execution_count": 14,
   "id": "fd04f6b5-5592-4024-803d-cdf249fc2410",
   "metadata": {},
   "outputs": [],
   "source": [
    "class class1:\n",
    "    \n",
    "    def test_class1(self):\n",
    "        return \"this is a class1\""
   ]
  },
  {
   "cell_type": "code",
   "execution_count": 15,
   "id": "2d8308f6-a599-4579-b7da-0ebefcf4282b",
   "metadata": {},
   "outputs": [],
   "source": [
    "class class2:\n",
    "    \n",
    "    def test_class2(self):\n",
    "        return \"This is a class2\""
   ]
  },
  {
   "cell_type": "code",
   "execution_count": 16,
   "id": "467189d0-8e41-4a38-bfcc-985ad1f4a2a2",
   "metadata": {},
   "outputs": [],
   "source": [
    "class class3(class1 , class2):\n",
    "    pass"
   ]
  },
  {
   "cell_type": "code",
   "execution_count": 17,
   "id": "71c18202-55dc-43db-a228-5d7f296a3176",
   "metadata": {},
   "outputs": [],
   "source": [
    "obj_class3 = class3()"
   ]
  },
  {
   "cell_type": "code",
   "execution_count": 19,
   "id": "347f95cc-aba3-4017-8a0a-cb4142ee1dfc",
   "metadata": {},
   "outputs": [
    {
     "data": {
      "text/plain": [
       "'This is a class2'"
      ]
     },
     "execution_count": 19,
     "metadata": {},
     "output_type": "execute_result"
    }
   ],
   "source": [
    "obj_class3.test_class2()"
   ]
  },
  {
   "cell_type": "code",
   "execution_count": 20,
   "id": "a04d7d24-0394-4725-9118-383519399901",
   "metadata": {},
   "outputs": [
    {
     "data": {
      "text/plain": [
       "'this is a class1'"
      ]
     },
     "execution_count": 20,
     "metadata": {},
     "output_type": "execute_result"
    }
   ],
   "source": [
    "obj_class3.test_class1()"
   ]
  }
 ],
 "metadata": {
  "kernelspec": {
   "display_name": "Python 3 (ipykernel)",
   "language": "python",
   "name": "python3"
  },
  "language_info": {
   "codemirror_mode": {
    "name": "ipython",
    "version": 3
   },
   "file_extension": ".py",
   "mimetype": "text/x-python",
   "name": "python",
   "nbconvert_exporter": "python",
   "pygments_lexer": "ipython3",
   "version": "3.10.8"
  }
 },
 "nbformat": 4,
 "nbformat_minor": 5
}
