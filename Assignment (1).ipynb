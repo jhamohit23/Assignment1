{
 "cells": [
  {
   "cell_type": "code",
   "execution_count": null,
   "id": "eaa8ee81-f9ba-473e-b371-b7c35380fd09",
   "metadata": {},
   "outputs": [],
   "source": [
    "Q1. Who developed python programming language?\n",
    "Ans. Guido van Rossum"
   ]
  },
  {
   "cell_type": "code",
   "execution_count": null,
   "id": "ea0b9dcc-f598-4093-9455-076024c21573",
   "metadata": {},
   "outputs": [],
   "source": [
    "Q2. Which type of programming does python suppoert?\n",
    "Ans. Object oriented programming and structured programming are fully supported."
   ]
  },
  {
   "cell_type": "code",
   "execution_count": null,
   "id": "62e76a3e-e1d5-499e-8767-d268bfd9eec5",
   "metadata": {},
   "outputs": [],
   "source": [
    "Q3. Is python case sensitive when dealing with identifier?\n",
    "Ans. Yes, Python is a case-sensitive language, i.e., it treats uppercase and lowercase characters differently."
   ]
  },
  {
   "cell_type": "code",
   "execution_count": null,
   "id": "5bf1522b-2269-4a99-a298-22981b8d3927",
   "metadata": {},
   "outputs": [],
   "source": [
    "Q4. What is the correct extension of the python file?\n",
    "Ans. .py"
   ]
  },
  {
   "cell_type": "code",
   "execution_count": null,
   "id": "bab5a25b-d743-4450-86af-2702dffb10e7",
   "metadata": {},
   "outputs": [],
   "source": [
    "Q5. Is python code compiled or interpreted?\n",
    "Ans. The python program is first compiled and then interpreted. The compilation part is hidden from the programmer thus, many programmers believe that it is an interpreted\n",
    "language."
   ]
  },
  {
   "cell_type": "code",
   "execution_count": null,
   "id": "5243b199-5ff6-4da0-99de-ed5b077f2c3f",
   "metadata": {},
   "outputs": [],
   "source": [
    "Q6. Name a few blocks of code used to define in python language?\n",
    "Ans. Indentation is used to define a block of code in python. Braces {} are used to define a block of code in most programming languages, like C, C++, and Java. But this indentation makes python unique among all programming languages.\n",
    "\n",
    "This indentation highlights the block of code. In Python, indentation is done with whitespace. All statements with the same right-hand distance belong to the same code block. If a block needs to be more nested, it is indented to the right.\n",
    "Example:\n",
    "    name = 'Alex'\n",
    "    \n",
    "if name == 'Alex':\n",
    "    print('Correct Name!!')\n",
    "else:\n",
    "\tprint('InCorrect Name:(')\n",
    "print('HI')\n"
   ]
  },
  {
   "cell_type": "code",
   "execution_count": null,
   "id": "f516a36d-b0cd-4a0a-b224-17a9c4808bc3",
   "metadata": {},
   "outputs": [],
   "source": [
    "Q7. State a character used to give single line comment in python?\n",
    "Ans. Hash character(#)"
   ]
  },
  {
   "cell_type": "code",
   "execution_count": null,
   "id": "e0c59cc6-7d1a-4a0b-b062-2ea7eff4123d",
   "metadata": {},
   "outputs": [],
   "source": [
    "Q8. Mention functions which can help us to find the version of python thar we are currently working on?\n",
    "Ans. sys.version can help us to find the version of python that we are currently working on."
   ]
  },
  {
   "cell_type": "code",
   "execution_count": null,
   "id": "4362927c-cd1b-4479-beb5-c990a3f3dfd5",
   "metadata": {},
   "outputs": [],
   "source": [
    "Q9. Python supports the creation of anonymous functions at runtime, using a construct called?\n",
    "Ans. \"Lambda\"."
   ]
  },
  {
   "cell_type": "code",
   "execution_count": null,
   "id": "79a30a67-823e-4d3b-bbd5-32ee0b081e2e",
   "metadata": {},
   "outputs": [],
   "source": [
    "Q10. what does pip stand for python?\n",
    "Ans. Preferred installer program."
   ]
  },
  {
   "cell_type": "code",
   "execution_count": null,
   "id": "8a7a7c68-5070-46dd-acac-ce9301d77f9d",
   "metadata": {},
   "outputs": [],
   "source": [
    "Q11. Mention a few built in functions in python?\n",
    "Ans. \n",
    "abs()\tReturns the absolute value of a number\n",
    "all()\tReturns True if all items in an iterable object are true\n",
    "any()\tReturns True if any item in an iterable object is true\n",
    "ascii()\tReturns a readable version of an object. Replaces none-ascii characters with escape character\n",
    "bin()\tReturns the binary version of a number\n",
    "bool()\tReturns the boolean value of the specified object\n",
    "bytearray()\tReturns an array of bytes\n",
    "bytes()\tReturns a bytes object\n",
    "callable()\tReturns True if the specified object is callable, otherwise False\n",
    "chr()\tReturns a character from the specified Unicode code.\n",
    "classmethod()\tConverts a method into a class method\n",
    "compile()\tReturns the specified source as an object, ready to be executed\n",
    "complex()\tReturns a complex number\n",
    "delattr()\tDeletes the specified attribute (property or method) from the specified object\n",
    "dict()\tReturns a dictionary (Array)\n",
    "dir()\tReturns a list of the specified object's properties and methods\n",
    "divmod()\tReturns the quotient and the remainder when argument1 is divided by argument2\n",
    "enumerate()\tTakes a collection (e.g. a tuple) and returns it as an enumerate object\n",
    "eval()\tEvaluates and executes an expression\n",
    "exec()\tExecutes the specified code (or object)\n",
    "filter()\tUse a filter function to exclude items in an iterable object\n",
    "float()\tReturns a floating point number\n",
    "format()\tFormats a specified value\n",
    "frozenset()\tReturns a frozenset object\n",
    "getattr()\tReturns the value of the specified attribute (property or method)\n",
    "globals()\tReturns the current global symbol table as a dictionary\n",
    "hasattr()\tReturns True if the specified object has the specified attribute (property/method)\n",
    "hash()\tReturns the hash value of a specified object\n",
    "help()\tExecutes the built-in help system\n",
    "hex()\tConverts a number into a hexadecimal value\n",
    "id()\tReturns the id of an object\n",
    "input()\tAllowing user input\n",
    "int()\tReturns an integer number\n",
    "isinstance()\tReturns True if a specified object is an instance of a specified object\n",
    "issubclass()\tReturns True if a specified class is a subclass of a specified object\n",
    "iter()\tReturns an iterator object\n",
    "len()\tReturns the length of an object\n",
    "list()\tReturns a list\n",
    "locals()\tReturns an updated dictionary of the current local symbol table\n",
    "map()\tReturns the specified iterator with the specified function applied to each item\n",
    "max()\tReturns the largest item in an iterable\n",
    "memoryview()\tReturns a memory view object\n",
    "min()\tReturns the smallest item in an iterable\n",
    "next()\tReturns the next item in an iterable\n",
    "object()\tReturns a new object\n",
    "oct()\tConverts a number into an octal\n",
    "open()\tOpens a file and returns a file object\n",
    "ord()\tConvert an integer representing the Unicode of the specified character\n",
    "pow()\tReturns the value of x to the power of y\n",
    "print()\tPrints to the standard output device\n",
    "property()\tGets, sets, deletes a property\n",
    "range()\tReturns a sequence of numbers, starting from 0 and increments by 1 (by default)\n",
    "repr()\tReturns a readable version of an object\n",
    "reversed()\tReturns a reversed iterator\n",
    "round()\tRounds a numbers\n",
    "set()\tReturns a new set object\n",
    "setattr()\tSets an attribute (property/method) of an object\n",
    "slice()\tReturns a slice object\n",
    "sorted()\tReturns a sorted list\n",
    "staticmethod()\tConverts a method into a static method\n",
    "str()\tReturns a string object\n",
    "sum()\tSums the items of an iterator\n",
    "super()\tReturns an object that represents the parent class\n",
    "tuple()\tReturns a tuple\n",
    "type()\tReturns the type of an object\n",
    "vars()\tReturns the __dict__ property of an object\n",
    "zip()\tReturns an iterator, from two or more iterators\n"
   ]
  },
  {
   "cell_type": "code",
   "execution_count": null,
   "id": "21474b2c-70ce-49da-a532-d4487c326013",
   "metadata": {},
   "outputs": [],
   "source": [
    "Q12. what is the maximum possible length of an identifier in python?\n",
    "Ans. 79 Character."
   ]
  },
  {
   "cell_type": "code",
   "execution_count": null,
   "id": "f94c0cbc-dc4f-4bb7-b8ad-aa70cc775257",
   "metadata": {},
   "outputs": [],
   "source": [
    "Q13. what are the benefits of using python?\n",
    "Ans. Data science.\n",
    "Scientific and mathematical computing.\n",
    "Web development.\n",
    "Finance and trading.\n",
    "System automation and administration.\n",
    "Computer graphics.\n",
    "Basic game development.\n",
    "Security and penetration testing."
   ]
  },
  {
   "cell_type": "code",
   "execution_count": null,
   "id": "a6a6fdf9-7aa9-4ce0-84a2-4323fd1c30a6",
   "metadata": {},
   "outputs": [],
   "source": [
    "Q14. How is memory managed in python? \n",
    "Ans. Python is a famous and widely used programming language. It is used almost in every technical domain. In contrast to a programming language, memory management is related to writing memory-efficient code. We cannot overlook the importance of memory management while implementing a large amount of data. Improper memory management leads to slowness on the application and the server-side components. It also becomes the reason of improper working. If the memory is not handled well, it will take much time while preprocessing the data.\n",
    "\n",
    "In Python, memory is managed by the Python manager which determines where to put the application data in the memory. So, we must have the knowledge of Python memory manager to write efficient code and maintainable code."
   ]
  },
  {
   "cell_type": "code",
   "execution_count": null,
   "id": "4e1ba6c6-3f0a-4dd2-b2dc-924067cdefbe",
   "metadata": {},
   "outputs": [],
   "source": [
    "Q15. How to install python on windows and set path variable?\n",
    "Ans. 1. Right-clicking This PC and going to Properties.\n",
    "\n",
    "2.Clicking on the Advanced system settings in the menu on the left.\n",
    "\n",
    "3.Clicking on the Environment Variables button o​n the bottom right.\n",
    "\n",
    "4.In the System variables section, selecting the Path variable and clicking on Edit. The next screen will show all the directories that are currently a part of the PATH variable.\n",
    "\n",
    "5.Clicking on New and entering Python’s install directory."
   ]
  },
  {
   "cell_type": "code",
   "execution_count": null,
   "id": "1c580c77-15ab-4eb1-9a97-173e105aa67d",
   "metadata": {},
   "outputs": [],
   "source": [
    "Q16. is indentation required in python?\n",
    "Ans. Indentation refers to the spaces at the beginning of a code line. Where in other programming languages the indentation in code is for readability only, the indentation in Python is very important. Python uses indentation to indicate a block of code.\n"
   ]
  }
 ],
 "metadata": {
  "kernelspec": {
   "display_name": "Python 3 (ipykernel)",
   "language": "python",
   "name": "python3"
  },
  "language_info": {
   "codemirror_mode": {
    "name": "ipython",
    "version": 3
   },
   "file_extension": ".py",
   "mimetype": "text/x-python",
   "name": "python",
   "nbconvert_exporter": "python",
   "pygments_lexer": "ipython3",
   "version": "3.10.8"
  }
 },
 "nbformat": 4,
 "nbformat_minor": 5
}
