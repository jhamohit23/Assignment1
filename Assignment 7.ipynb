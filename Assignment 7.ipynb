{
 "cells": [
  {
   "cell_type": "code",
   "execution_count": null,
   "id": "50d7625b-3a9d-440b-aeb5-89d64e1e3e0d",
   "metadata": {},
   "outputs": [],
   "source": [
    "#Q1\n",
    "Ans. fopen() is a function used to open a file.\n",
    "There are 6 access modes in python:\n",
    "1.Read Only (‘r’) : Open text file for reading. The handle is positioned at the beginning of the file. If the file does not exists, raises the I/O error. This is also the default mode in which a file is opened.\n",
    "2.Read and Write (‘r+’): Open the file for reading and writing. The handle is positioned at the beginning of the file. Raises I/O error if the file does not exist.\n",
    "3.Write Only (‘w’) : Open the file for writing. For the existing files, the data is truncated and over-written. The handle is positioned at the beginning of the file. Creates the file if the file does not exist.\n",
    "4.Write and Read (‘w+’) : Open the file for reading and writing. For an existing file, data is truncated and over-written. The handle is positioned at the beginning of the file.\n",
    "5.Append Only (‘a’): Open the file for writing. The file is created if it does not exist. The handle is positioned at the end of the file. The data being written will be inserted at the end, after the existing data.\n",
    "6.Append and Read (‘a+’) : Open the file for reading and writing. The file is created if it does not exist. The handle is positioned at the end of the file. The data being written will be inserted at the end, after the existing data."
   ]
  },
  {
   "cell_type": "code",
   "execution_count": null,
   "id": "1116a28d-945a-4527-a79f-0ea2d5445993",
   "metadata": {},
   "outputs": [],
   "source": [
    "#Q2\n",
    "Ans. Python file technique close () closes the opened file. A closed file cannot be delivered or written any more. Any operation, which needs that the file be opened will raise a Value Error next the file has been closed.\n",
    "You should always close your files, in some cases, due to buffering, changes made to a file may not show until you close the file."
   ]
  },
  {
   "cell_type": "code",
   "execution_count": null,
   "id": "6c86895e-cb27-40ce-ad88-fb8e572ae1fd",
   "metadata": {},
   "outputs": [],
   "source": [
    "#Q3"
   ]
  },
  {
   "cell_type": "code",
   "execution_count": 14,
   "id": "43f3be8a-82d7-49ce-99a8-55d1070916d7",
   "metadata": {},
   "outputs": [],
   "source": [
    "f = open(\"test.txt\" , 'w')\n",
    "f.write(\"I want to become a Data Scientist\\n\")\n",
    "f.close()"
   ]
  },
  {
   "cell_type": "code",
   "execution_count": 15,
   "id": "5415b8d1-8c0c-4ae8-a05c-7dd499dfc94a",
   "metadata": {},
   "outputs": [],
   "source": [
    "#Q4"
   ]
  },
  {
   "cell_type": "code",
   "execution_count": 16,
   "id": "51f02881-aa94-48eb-a15c-303a6c321453",
   "metadata": {},
   "outputs": [
    {
     "name": "stdout",
     "output_type": "stream",
     "text": [
      "I want to become a Data Scientist\n",
      "\n"
     ]
    }
   ],
   "source": [
    "#Read method - Read the content of the file \"test.txt\":\n",
    "f = open(\"test.txt\", \"r\")\n",
    "print(f.read())"
   ]
  },
  {
   "cell_type": "code",
   "execution_count": 17,
   "id": "dc0a2fde-0894-45a4-b422-9d6aa271907a",
   "metadata": {},
   "outputs": [
    {
     "name": "stdout",
     "output_type": "stream",
     "text": [
      "I want to become a Data Scientist\n",
      "\n"
     ]
    }
   ],
   "source": [
    "#Readline method - Read the first line of the file \"test.txt\":\n",
    "f = open(\"test.txt\", \"r\")\n",
    "print(f.readline())"
   ]
  },
  {
   "cell_type": "code",
   "execution_count": 18,
   "id": "9c7da381-7a74-435f-845b-ceda513be9fa",
   "metadata": {},
   "outputs": [
    {
     "name": "stdout",
     "output_type": "stream",
     "text": [
      "['I want to become a Data Scientist\\n']\n"
     ]
    }
   ],
   "source": [
    "#Readlines Method - Return all lines in the file, as a list where each line is an item in the list object:\n",
    "f = open(\"test.txt\", \"r\")\n",
    "print(f.readlines())"
   ]
  },
  {
   "cell_type": "code",
   "execution_count": null,
   "id": "7776e40b-a6e7-4968-a679-6d9ebb92d3b3",
   "metadata": {},
   "outputs": [],
   "source": [
    "#Q5\n",
    "Ans. he with statement works with the open() function to open a file. Unlike open() where you have to close the file with the close() method, the with statement closes the file for you without you telling it to. This is because the with statement calls 2 built-in methods behind the scene – __enter()__ and __exit()__ .\n",
    "any file that is opened using this clause is closed automatically, once the control comes outside the with clause."
   ]
  },
  {
   "cell_type": "code",
   "execution_count": 20,
   "id": "9c7ad670-42ce-416e-881a-49f986225df5",
   "metadata": {},
   "outputs": [],
   "source": [
    "#Q6"
   ]
  },
  {
   "cell_type": "code",
   "execution_count": 13,
   "id": "3999f9c5-583e-4f2f-9fcc-c5d654404ef7",
   "metadata": {},
   "outputs": [
    {
     "name": "stdout",
     "output_type": "stream",
     "text": [
      "I want to become a Data ScientistSee you soon!See you soon!\n",
      "\n"
     ]
    }
   ],
   "source": [
    "#Write Method - Open the file with \"a\" for appending, then add some text to the file:\n",
    "f = open(\"test.txt\", \"a\")\n",
    "f.write(\"See you soon!\\n\")\n",
    "f.close()\n",
    "\n",
    "#open and read the file after the appending:\n",
    "f = open(\"test.txt\", \"r\")\n",
    "print(f.read())"
   ]
  },
  {
   "cell_type": "code",
   "execution_count": 21,
   "id": "16066f8c-9da4-40b4-bbbf-58dffec54279",
   "metadata": {},
   "outputs": [
    {
     "name": "stdout",
     "output_type": "stream",
     "text": [
      "See you soon!Over and out.\n"
     ]
    }
   ],
   "source": [
    "#Writeline method - Open the file with \"a\" for appending, then add a list of texts to append to the file:\n",
    "f = open(\"test1.txt\", \"a\")\n",
    "f.writelines([\"See you soon!\", \"Over and out.\"])\n",
    "f.close()\n",
    "\n",
    "#open and read the file after the appending:\n",
    "f = open(\"test1.txt\", \"r\")\n",
    "print(f.read())"
   ]
  },
  {
   "cell_type": "code",
   "execution_count": null,
   "id": "3022e809-b3b3-4330-9bc8-3be65249e648",
   "metadata": {},
   "outputs": [],
   "source": []
  }
 ],
 "metadata": {
  "kernelspec": {
   "display_name": "Python 3 (ipykernel)",
   "language": "python",
   "name": "python3"
  },
  "language_info": {
   "codemirror_mode": {
    "name": "ipython",
    "version": 3
   },
   "file_extension": ".py",
   "mimetype": "text/x-python",
   "name": "python",
   "nbconvert_exporter": "python",
   "pygments_lexer": "ipython3",
   "version": "3.10.8"
  }
 },
 "nbformat": 4,
 "nbformat_minor": 5
}
