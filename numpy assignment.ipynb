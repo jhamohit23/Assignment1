{
 "cells": [
  {
   "cell_type": "code",
   "execution_count": 2,
   "id": "57e315b0-fcd3-4a3e-bd07-729ba3c3c8eb",
   "metadata": {},
   "outputs": [],
   "source": [
    "import numpy as np"
   ]
  },
  {
   "cell_type": "code",
   "execution_count": 3,
   "id": "89838e96-4fff-4fdf-b3f6-bb94d9ea19c5",
   "metadata": {},
   "outputs": [],
   "source": [
    "list_ = [ '1' , '2' , '3' , '4' , '5' ]"
   ]
  },
  {
   "cell_type": "code",
   "execution_count": 5,
   "id": "1c3f47cf-2726-48d0-bbdb-3fb679f086af",
   "metadata": {},
   "outputs": [],
   "source": [
    "array_list = np.array(object = list_)"
   ]
  },
  {
   "cell_type": "code",
   "execution_count": 6,
   "id": "6dc7f8ba-2f7c-4479-bdfb-373818b59951",
   "metadata": {},
   "outputs": [
    {
     "data": {
      "text/plain": [
       "array(['1', '2', '3', '4', '5'], dtype='<U1')"
      ]
     },
     "execution_count": 6,
     "metadata": {},
     "output_type": "execute_result"
    }
   ],
   "source": [
    "array_list"
   ]
  },
  {
   "cell_type": "code",
   "execution_count": 7,
   "id": "e9f41c92-732a-458f-9899-fd1aa1177519",
   "metadata": {},
   "outputs": [],
   "source": [
    "## Q1"
   ]
  },
  {
   "cell_type": "code",
   "execution_count": 8,
   "id": "739d1c4b-0361-4586-8ea7-8e87f721169c",
   "metadata": {},
   "outputs": [
    {
     "data": {
      "text/plain": [
       "'An array in Python typically refers to the array module provided by the NumPy library. It is a data structure that stores homogeneous elements and provides efficient numerical operations. Arrays in NumPy have a fixed size upon creation and offer various mathematical operations optimized for performance.'"
      ]
     },
     "execution_count": 8,
     "metadata": {},
     "output_type": "execute_result"
    }
   ],
   "source": [
    "\"\"\"A list in Python is a built-in data type that stores a collection of items. It is a mutable, ordered sequence of elements and can contain elements of different data types.\"\"\"\n",
    "\n",
    "\"\"\"An array in Python typically refers to the array module provided by the NumPy library. It is a data structure that stores homogeneous elements and provides efficient numerical operations. Arrays in NumPy have a fixed size upon creation and offer various mathematical operations optimized for performance.\"\"\"\n"
   ]
  },
  {
   "cell_type": "code",
   "execution_count": 11,
   "id": "464a9419-877f-4acc-a781-e46fac3c553d",
   "metadata": {},
   "outputs": [
    {
     "name": "stdout",
     "output_type": "stream",
     "text": [
      "Data type of list_: <class 'list'>\n",
      "Data type of array_list: <class 'numpy.ndarray'>\n"
     ]
    }
   ],
   "source": [
    "list_ = [ '1' , '2' , '3' , '4' , '5' ]\n",
    "array_list= np.array(object=list_)\n",
    "\n",
    "print(\"Data type of list_:\", type(list_))\n",
    "print(\"Data type of array_list:\", type(array_list))"
   ]
  },
  {
   "cell_type": "code",
   "execution_count": 12,
   "id": "3830ddd4-d065-4eac-8a04-67b13028bebc",
   "metadata": {},
   "outputs": [
    {
     "data": {
      "text/plain": [
       "array(['1', '2', '3', '4', '5'], dtype='<U1')"
      ]
     },
     "execution_count": 12,
     "metadata": {},
     "output_type": "execute_result"
    }
   ],
   "source": [
    "array_list"
   ]
  },
  {
   "cell_type": "code",
   "execution_count": 13,
   "id": "760b004e-f52a-4038-b0af-642e070b4006",
   "metadata": {},
   "outputs": [
    {
     "data": {
      "text/plain": [
       "['1', '2', '3', '4', '5']"
      ]
     },
     "execution_count": 13,
     "metadata": {},
     "output_type": "execute_result"
    }
   ],
   "source": [
    "list_"
   ]
  },
  {
   "cell_type": "code",
   "execution_count": 14,
   "id": "085d3908-9697-445f-8807-17e07795d71a",
   "metadata": {},
   "outputs": [],
   "source": [
    "## Q2"
   ]
  },
  {
   "cell_type": "code",
   "execution_count": 15,
   "id": "680d0bfc-1d71-48a7-8eb3-c7650a793f98",
   "metadata": {},
   "outputs": [],
   "source": [
    "import numpy as np"
   ]
  },
  {
   "cell_type": "code",
   "execution_count": 19,
   "id": "a5645c41-2cb3-430d-b47a-18a353a2f24a",
   "metadata": {},
   "outputs": [
    {
     "name": "stdout",
     "output_type": "stream",
     "text": [
      "Data types of each elements in list_\n",
      "<class 'int'>\n",
      "<class 'int'>\n",
      "<class 'float'>\n",
      "<class 'bool'>\n",
      "<class 'str'>\n",
      "Data types of each elements in array_list\n",
      "<class 'numpy.int64'>\n",
      "<class 'numpy.int64'>\n",
      "<class 'numpy.int64'>\n",
      "<class 'numpy.int64'>\n",
      "<class 'numpy.int64'>\n"
     ]
    }
   ],
   "source": [
    "list_=[1,2,3.14,True,\"Hello\"]\n",
    "array_list = np.array([1,2,6,5,3])\n",
    "\n",
    "print(\"Data types of each elements in list_\")\n",
    "for element in list_:\n",
    "    print(type(element))\n",
    "    \n",
    "print(\"Data types of each elements in array_list\")\n",
    "for elements in array_list:\n",
    "    print(type(elements))"
   ]
  },
  {
   "cell_type": "code",
   "execution_count": 20,
   "id": "9811d5a5-a201-46ec-a9de-4b715f3845c3",
   "metadata": {},
   "outputs": [],
   "source": [
    "## Q3"
   ]
  },
  {
   "cell_type": "code",
   "execution_count": null,
   "id": "274e1ad3-853f-4086-ba63-dccbf9741ccd",
   "metadata": {},
   "outputs": [],
   "source": [
    "import numpy as np"
   ]
  },
  {
   "cell_type": "code",
   "execution_count": 21,
   "id": "a9b14062-fd81-44f7-8785-3dbe80d0ed78",
   "metadata": {},
   "outputs": [
    {
     "ename": "ValueError",
     "evalue": "invalid literal for int() with base 10: 'Hello'",
     "output_type": "error",
     "traceback": [
      "\u001b[0;31m---------------------------------------------------------------------------\u001b[0m",
      "\u001b[0;31mValueError\u001b[0m                                Traceback (most recent call last)",
      "Cell \u001b[0;32mIn[21], line 2\u001b[0m\n\u001b[1;32m      1\u001b[0m list_\u001b[38;5;241m=\u001b[39m[\u001b[38;5;241m1\u001b[39m,\u001b[38;5;241m2\u001b[39m,\u001b[38;5;241m3.14\u001b[39m,\u001b[38;5;28;01mTrue\u001b[39;00m,\u001b[38;5;124m\"\u001b[39m\u001b[38;5;124mHello\u001b[39m\u001b[38;5;124m\"\u001b[39m]\n\u001b[0;32m----> 2\u001b[0m array_list \u001b[38;5;241m=\u001b[39m \u001b[43mnp\u001b[49m\u001b[38;5;241;43m.\u001b[39;49m\u001b[43marray\u001b[49m\u001b[43m(\u001b[49m\u001b[38;5;28;43mobject\u001b[39;49m\u001b[43m \u001b[49m\u001b[38;5;241;43m=\u001b[39;49m\u001b[43m \u001b[49m\u001b[43mlist_\u001b[49m\u001b[43m,\u001b[49m\u001b[43m \u001b[49m\u001b[43mdtype\u001b[49m\u001b[38;5;241;43m=\u001b[39;49m\u001b[38;5;28;43mint\u001b[39;49m\u001b[43m)\u001b[49m\n\u001b[1;32m      4\u001b[0m \u001b[38;5;28mprint\u001b[39m(\u001b[38;5;124m\"\u001b[39m\u001b[38;5;124mData types of each elements in list_\u001b[39m\u001b[38;5;124m\"\u001b[39m)\n\u001b[1;32m      5\u001b[0m \u001b[38;5;28;01mfor\u001b[39;00m element \u001b[38;5;129;01min\u001b[39;00m list_:\n",
      "\u001b[0;31mValueError\u001b[0m: invalid literal for int() with base 10: 'Hello'"
     ]
    }
   ],
   "source": [
    "list_=[1,2,3.14,True,\"Hello\"]\n",
    "array_list = np.array(object = list_, dtype=int)\n",
    "\n",
    "print(\"Data types of each elements in list_\")\n",
    "for element in list_:\n",
    "    print(type(element))\n",
    "    \n",
    "print(\"\\nData types of each elements in array_list\")\n",
    "for elements in array_list:\n",
    "    print(type(elements))"
   ]
  },
  {
   "cell_type": "code",
   "execution_count": 22,
   "id": "b6cf1e98-b01f-46a0-b2e6-26422f9cf62b",
   "metadata": {},
   "outputs": [],
   "source": [
    "## Q4"
   ]
  },
  {
   "cell_type": "code",
   "execution_count": 23,
   "id": "2d65dd52-0c08-4527-9274-013d1c87cd8e",
   "metadata": {},
   "outputs": [],
   "source": [
    "import numpy as np"
   ]
  },
  {
   "cell_type": "code",
   "execution_count": 24,
   "id": "2e1ef601-a53a-4509-a05c-a652e7b4bd70",
   "metadata": {},
   "outputs": [],
   "source": [
    "num_list = [ [ 1 , 2 , 3 ] , [ 4 , 5 , 6 ] ]\n",
    "\n",
    "num_array = np.array(object = num_list)"
   ]
  },
  {
   "cell_type": "code",
   "execution_count": 25,
   "id": "990a214f-d8ca-4c94-b691-1c08784183bf",
   "metadata": {},
   "outputs": [
    {
     "data": {
      "text/plain": [
       "[[1, 2, 3], [4, 5, 6]]"
      ]
     },
     "execution_count": 25,
     "metadata": {},
     "output_type": "execute_result"
    }
   ],
   "source": [
    "num_list"
   ]
  },
  {
   "cell_type": "code",
   "execution_count": 26,
   "id": "6a657f91-ed66-486a-ae34-fc11b508b838",
   "metadata": {},
   "outputs": [
    {
     "data": {
      "text/plain": [
       "array([[1, 2, 3],\n",
       "       [4, 5, 6]])"
      ]
     },
     "execution_count": 26,
     "metadata": {},
     "output_type": "execute_result"
    }
   ],
   "source": [
    "num_array"
   ]
  },
  {
   "cell_type": "code",
   "execution_count": 27,
   "id": "d6cb6075-16e1-4b60-9bc8-8a6f215eaa59",
   "metadata": {},
   "outputs": [
    {
     "name": "stdout",
     "output_type": "stream",
     "text": [
      "(2, 3)\n"
     ]
    }
   ],
   "source": [
    "print(num_array.shape)"
   ]
  },
  {
   "cell_type": "code",
   "execution_count": 28,
   "id": "8dd55110-4c01-4efd-9a78-379e376377c3",
   "metadata": {},
   "outputs": [
    {
     "name": "stdout",
     "output_type": "stream",
     "text": [
      "6\n"
     ]
    }
   ],
   "source": [
    "print(num_array.size)"
   ]
  },
  {
   "cell_type": "code",
   "execution_count": 29,
   "id": "2bbcea07-03ea-48f6-8799-6cb2357028af",
   "metadata": {},
   "outputs": [],
   "source": [
    "## Q5"
   ]
  },
  {
   "cell_type": "code",
   "execution_count": 30,
   "id": "a11c377e-f907-484d-833c-bf6519ae9e36",
   "metadata": {},
   "outputs": [],
   "source": [
    "import numpy as np"
   ]
  },
  {
   "cell_type": "code",
   "execution_count": 33,
   "id": "a4b1db8f-6fa7-4e4f-8a26-8745d9e54fae",
   "metadata": {},
   "outputs": [
    {
     "name": "stdout",
     "output_type": "stream",
     "text": [
      "9\n",
      "(3, 3)\n"
     ]
    }
   ],
   "source": [
    "arr = np.zeros([3,3])\n",
    "\n",
    "print(arr.size)\n",
    "\n",
    "print(arr.shape)"
   ]
  },
  {
   "cell_type": "code",
   "execution_count": 34,
   "id": "daa5f8a9-4b2b-475e-8aab-657ab63b5d7b",
   "metadata": {},
   "outputs": [
    {
     "data": {
      "text/plain": [
       "array([[0., 0., 0.],\n",
       "       [0., 0., 0.],\n",
       "       [0., 0., 0.]])"
      ]
     },
     "execution_count": 34,
     "metadata": {},
     "output_type": "execute_result"
    }
   ],
   "source": [
    "arr"
   ]
  },
  {
   "cell_type": "code",
   "execution_count": 35,
   "id": "d048955c-812d-4fc5-a696-355c253521f3",
   "metadata": {},
   "outputs": [],
   "source": [
    "## Q6"
   ]
  },
  {
   "cell_type": "code",
   "execution_count": 36,
   "id": "6419e417-7a17-4c2f-b9c0-56962882b298",
   "metadata": {},
   "outputs": [],
   "source": [
    "import numpy as np"
   ]
  },
  {
   "cell_type": "code",
   "execution_count": 40,
   "id": "7bee54c4-7bb4-466d-885c-4d441ed94404",
   "metadata": {},
   "outputs": [],
   "source": [
    "identity_matrix = np.identity(5 , dtype=int)"
   ]
  },
  {
   "cell_type": "code",
   "execution_count": 41,
   "id": "6ef8f068-6ebf-4ac2-91f8-5bdcb8336b1a",
   "metadata": {},
   "outputs": [
    {
     "data": {
      "text/plain": [
       "array([[1, 0, 0, 0, 0],\n",
       "       [0, 1, 0, 0, 0],\n",
       "       [0, 0, 1, 0, 0],\n",
       "       [0, 0, 0, 1, 0],\n",
       "       [0, 0, 0, 0, 1]])"
      ]
     },
     "execution_count": 41,
     "metadata": {},
     "output_type": "execute_result"
    }
   ],
   "source": [
    "identity_matrix"
   ]
  },
  {
   "cell_type": "code",
   "execution_count": 42,
   "id": "9ee3d7e9-20cb-4dce-b7cc-cbfbc9eff93b",
   "metadata": {},
   "outputs": [
    {
     "name": "stdout",
     "output_type": "stream",
     "text": [
      "(5, 5)\n"
     ]
    }
   ],
   "source": [
    "print(identity_matrix.shape)"
   ]
  },
  {
   "cell_type": "code",
   "execution_count": null,
   "id": "a6d0175c-58ab-40c0-8736-4b027193dc3f",
   "metadata": {},
   "outputs": [],
   "source": []
  }
 ],
 "metadata": {
  "kernelspec": {
   "display_name": "Python 3 (ipykernel)",
   "language": "python",
   "name": "python3"
  },
  "language_info": {
   "codemirror_mode": {
    "name": "ipython",
    "version": 3
   },
   "file_extension": ".py",
   "mimetype": "text/x-python",
   "name": "python",
   "nbconvert_exporter": "python",
   "pygments_lexer": "ipython3",
   "version": "3.10.8"
  }
 },
 "nbformat": 4,
 "nbformat_minor": 5
}
