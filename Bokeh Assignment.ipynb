{
 "cells": [
  {
   "cell_type": "code",
   "execution_count": 2,
   "id": "5a8284dd-7efa-4e42-b4b0-f811fddc1833",
   "metadata": {},
   "outputs": [],
   "source": [
    "## Q1"
   ]
  },
  {
   "cell_type": "code",
   "execution_count": 6,
   "id": "ae779e33-7100-4793-b04d-f829a1353b0e",
   "metadata": {},
   "outputs": [],
   "source": [
    "# 1.Install Bokeh: First, you need to install the Bokeh library. You can install it using pip by running the following command:"
   ]
  },
  {
   "cell_type": "code",
   "execution_count": 7,
   "id": "aaf4c93a-0375-4f50-b319-8ffacc96fcf1",
   "metadata": {},
   "outputs": [
    {
     "name": "stdout",
     "output_type": "stream",
     "text": [
      "Requirement already satisfied: bokeh in /opt/conda/lib/python3.10/site-packages (3.0.3)\n",
      "Requirement already satisfied: tornado>=5.1 in /opt/conda/lib/python3.10/site-packages (from bokeh) (6.1)\n",
      "Requirement already satisfied: pandas>=1.2 in /opt/conda/lib/python3.10/site-packages (from bokeh) (1.5.2)\n",
      "Requirement already satisfied: pillow>=7.1.0 in /opt/conda/lib/python3.10/site-packages (from bokeh) (9.2.0)\n",
      "Requirement already satisfied: PyYAML>=3.10 in /opt/conda/lib/python3.10/site-packages (from bokeh) (6.0)\n",
      "Requirement already satisfied: Jinja2>=2.9 in /opt/conda/lib/python3.10/site-packages (from bokeh) (3.1.2)\n",
      "Requirement already satisfied: xyzservices>=2021.09.1 in /opt/conda/lib/python3.10/site-packages (from bokeh) (2022.9.0)\n",
      "Requirement already satisfied: numpy>=1.11.3 in /opt/conda/lib/python3.10/site-packages (from bokeh) (1.23.5)\n",
      "Requirement already satisfied: contourpy>=1 in /opt/conda/lib/python3.10/site-packages (from bokeh) (1.0.6)\n",
      "Requirement already satisfied: packaging>=16.8 in /opt/conda/lib/python3.10/site-packages (from bokeh) (22.0)\n",
      "Requirement already satisfied: MarkupSafe>=2.0 in /opt/conda/lib/python3.10/site-packages (from Jinja2>=2.9->bokeh) (2.1.1)\n",
      "Requirement already satisfied: python-dateutil>=2.8.1 in /opt/conda/lib/python3.10/site-packages (from pandas>=1.2->bokeh) (2.8.2)\n",
      "Requirement already satisfied: pytz>=2020.1 in /opt/conda/lib/python3.10/site-packages (from pandas>=1.2->bokeh) (2022.6)\n",
      "Requirement already satisfied: six>=1.5 in /opt/conda/lib/python3.10/site-packages (from python-dateutil>=2.8.1->pandas>=1.2->bokeh) (1.16.0)\n",
      "Note: you may need to restart the kernel to use updated packages.\n"
     ]
    }
   ],
   "source": [
    "pip install bokeh"
   ]
  },
  {
   "cell_type": "code",
   "execution_count": 8,
   "id": "6f282d3d-827f-4743-a560-afc36ae6f750",
   "metadata": {},
   "outputs": [],
   "source": [
    "# 2.Import necessary modules: In your Python script or notebook, import the necessary modules from Bokeh. Typically, you'll need the bokeh.plotting module to create plots\n",
    "from bokeh.plotting import figure, show"
   ]
  },
  {
   "cell_type": "code",
   "execution_count": 9,
   "id": "2e1dcb0a-0a31-4a98-b7a8-ed0ae580d22c",
   "metadata": {},
   "outputs": [],
   "source": [
    "# 3.Prepare the data: Prepare the data you want to plot. This could be in the form of lists, NumPy arrays, or Pandas data structures, depending on your requirements."
   ]
  },
  {
   "cell_type": "code",
   "execution_count": 15,
   "id": "4a89c18c-611b-4c14-a3fd-495764ed8ee3",
   "metadata": {},
   "outputs": [],
   "source": [
    "# 4.Create a figure: Create a Bokeh figure object using the figure() function. Specify the size, title, and other properties of the figure as needed.\n",
    "p = figure(title='My Bokeh Plot', outer_width=800, outer_height=400)"
   ]
  },
  {
   "cell_type": "code",
   "execution_count": 16,
   "id": "65b740e2-58fe-401e-9677-24742364d0ef",
   "metadata": {},
   "outputs": [
    {
     "ename": "NameError",
     "evalue": "name 'x_values' is not defined",
     "output_type": "error",
     "traceback": [
      "\u001b[0;31m---------------------------------------------------------------------------\u001b[0m",
      "\u001b[0;31mNameError\u001b[0m                                 Traceback (most recent call last)",
      "Cell \u001b[0;32mIn[34], line 2\u001b[0m\n\u001b[1;32m      1\u001b[0m \u001b[38;5;66;03m# 5.Add glyphs: Use the glyph methods available in the figure object (p) to add visual elements such as lines, circles, rectangles, etc., to the plot. For example, to add a line, you can use the line() method.\u001b[39;00m\n\u001b[0;32m----> 2\u001b[0m p\u001b[38;5;241m.\u001b[39mline(\u001b[43mx_values\u001b[49m, y_values, line_width\u001b[38;5;241m=\u001b[39m\u001b[38;5;241m2\u001b[39m)\n",
      "\u001b[0;31mNameError\u001b[0m: name 'x_values' is not defined"
     ]
    }
   ],
   "source": [
    "# 5.Add glyphs: Use the glyph methods available in the figure object (p) to add visual elements such as lines, circles, rectangles, etc., to the plot. For example, to add a line, you can use the line() method.\n",
    "p.line(x_values, y_values, line_color='blue', line_width=2)"
   ]
  },
  {
   "cell_type": "code",
   "execution_count": 17,
   "id": "58a82909-fe0d-4eea-b69a-165a62c95314",
   "metadata": {},
   "outputs": [
    {
     "name": "stderr",
     "output_type": "stream",
     "text": [
      "WARNING:bokeh.core.validation.check:W-1000 (MISSING_RENDERERS): Plot has no renderers: figure(id='p1007', ...)\n"
     ]
    }
   ],
   "source": [
    "# 6.Customize the plot: You can further customize the plot by setting various properties such as axis labels, legends, background color, etc., using the available methods and attributes of the figure object (p)\n",
    "# 7.Display the plot: Finally, use the show() function to display the plot.\n",
    "show(p)"
   ]
  },
  {
   "cell_type": "code",
   "execution_count": 18,
   "id": "f43d9be6-493a-4787-b90b-053792c4e819",
   "metadata": {},
   "outputs": [],
   "source": [
    "## Q2"
   ]
  },
  {
   "cell_type": "code",
   "execution_count": 19,
   "id": "81d08659-49c4-47a1-b0d5-c8bae16396e2",
   "metadata": {},
   "outputs": [
    {
     "data": {
      "text/plain": [
       "'In Bokeh, glyphs are the visual markers or symbols that are used to represent data points on a plot. They include shapes such as circles, squares, triangles, lines, and more. Glyphs are added to a Bokeh plot to visually represent the underlying data.'"
      ]
     },
     "execution_count": 19,
     "metadata": {},
     "output_type": "execute_result"
    }
   ],
   "source": [
    "\"\"\"In Bokeh, glyphs are the visual markers or symbols that are used to represent data points on a plot. They include shapes such as circles, squares, triangles, lines, and more. Glyphs are added to a Bokeh plot to visually represent the underlying data.\"\"\""
   ]
  },
  {
   "cell_type": "code",
   "execution_count": 20,
   "id": "b9f83182-d347-4582-94fc-9573358b4952",
   "metadata": {},
   "outputs": [],
   "source": [
    "from bokeh.plotting import figure, show"
   ]
  },
  {
   "cell_type": "code",
   "execution_count": 28,
   "id": "33015a21-517c-4261-b8a5-a01b1edb3742",
   "metadata": {},
   "outputs": [
    {
     "ename": "NameError",
     "evalue": "name 'x' is not defined",
     "output_type": "error",
     "traceback": [
      "\u001b[0;31m---------------------------------------------------------------------------\u001b[0m",
      "\u001b[0;31mNameError\u001b[0m                                 Traceback (most recent call last)",
      "Cell \u001b[0;32mIn[28], line 1\u001b[0m\n\u001b[0;32m----> 1\u001b[0m p \u001b[38;5;241m=\u001b[39m figure(\u001b[43mx\u001b[49m,y)\n",
      "\u001b[0;31mNameError\u001b[0m: name 'x' is not defined"
     ]
    }
   ],
   "source": [
    "p = figure()"
   ]
  },
  {
   "cell_type": "code",
   "execution_count": 29,
   "id": "ff56351f-621b-4ad4-a44c-793cad581e60",
   "metadata": {},
   "outputs": [
    {
     "ename": "NameError",
     "evalue": "name 'y' is not defined",
     "output_type": "error",
     "traceback": [
      "\u001b[0;31m---------------------------------------------------------------------------\u001b[0m",
      "\u001b[0;31mNameError\u001b[0m                                 Traceback (most recent call last)",
      "Cell \u001b[0;32mIn[29], line 1\u001b[0m\n\u001b[0;32m----> 1\u001b[0m p\u001b[38;5;241m.\u001b[39mcircle( \u001b[43my\u001b[49m, size\u001b[38;5;241m=\u001b[39m\u001b[38;5;241m10\u001b[39m, color\u001b[38;5;241m=\u001b[39m\u001b[38;5;124m'\u001b[39m\u001b[38;5;124mblue\u001b[39m\u001b[38;5;124m'\u001b[39m)\n\u001b[1;32m      2\u001b[0m p\u001b[38;5;241m.\u001b[39mline( y, line_width\u001b[38;5;241m=\u001b[39m\u001b[38;5;241m2\u001b[39m, color\u001b[38;5;241m=\u001b[39m\u001b[38;5;124m'\u001b[39m\u001b[38;5;124mred\u001b[39m\u001b[38;5;124m'\u001b[39m)\n",
      "\u001b[0;31mNameError\u001b[0m: name 'y' is not defined"
     ]
    }
   ],
   "source": [
    "p.circle(x, y, size=10, color='blue')\n",
    "p.line(x, y, line_width=2, color='red')"
   ]
  },
  {
   "cell_type": "code",
   "execution_count": 26,
   "id": "37973797-b28a-4e30-a066-7f9d89b72baf",
   "metadata": {},
   "outputs": [],
   "source": [
    "p.title.text = 'My Bokeh Plot'\n",
    "p.xaxis.axis_label = 'X-axis'\n",
    "p.yaxis.axis_label = 'Y-axis'"
   ]
  },
  {
   "cell_type": "code",
   "execution_count": 27,
   "id": "6a2b6d85-ac27-4b22-9b37-1ae18a74b5a2",
   "metadata": {},
   "outputs": [
    {
     "name": "stderr",
     "output_type": "stream",
     "text": [
      "WARNING:bokeh.core.validation.check:W-1000 (MISSING_RENDERERS): Plot has no renderers: figure(id='p1159', ...)\n"
     ]
    }
   ],
   "source": [
    "show(p)"
   ]
  },
  {
   "cell_type": "code",
   "execution_count": 30,
   "id": "b6388de9-3e47-40bb-870d-9dc9edc21fbe",
   "metadata": {},
   "outputs": [],
   "source": [
    "## Q3"
   ]
  },
  {
   "cell_type": "code",
   "execution_count": 31,
   "id": "555c2948-9570-4670-a708-0f2994e84f5a",
   "metadata": {},
   "outputs": [
    {
     "data": {
      "text/plain": [
       "\"To customize the appearance of a Bokeh plot, including the axes, title, and legend, you can use various attributes and methods of the Bokeh figure object. Here's an example of how you can customize these elements:\""
      ]
     },
     "execution_count": 31,
     "metadata": {},
     "output_type": "execute_result"
    }
   ],
   "source": [
    "\"\"\"To customize the appearance of a Bokeh plot, including the axes, title, and legend, you can use various attributes and methods of the Bokeh figure object. Here's an example of how you can customize these elements:\"\"\""
   ]
  },
  {
   "cell_type": "code",
   "execution_count": 33,
   "id": "82ed16b5-7c37-4570-bf34-ba5b1af63e7f",
   "metadata": {},
   "outputs": [
    {
     "ename": "NameError",
     "evalue": "name 'x' is not defined",
     "output_type": "error",
     "traceback": [
      "\u001b[0;31m---------------------------------------------------------------------------\u001b[0m",
      "\u001b[0;31mNameError\u001b[0m                                 Traceback (most recent call last)",
      "Cell \u001b[0;32mIn[33], line 7\u001b[0m\n\u001b[1;32m      4\u001b[0m p \u001b[38;5;241m=\u001b[39m figure(outer_width\u001b[38;5;241m=\u001b[39m\u001b[38;5;241m800\u001b[39m, outer_height\u001b[38;5;241m=\u001b[39m\u001b[38;5;241m400\u001b[39m)\n\u001b[1;32m      6\u001b[0m \u001b[38;5;66;03m# Add glyphs to the figure\u001b[39;00m\n\u001b[0;32m----> 7\u001b[0m p\u001b[38;5;241m.\u001b[39mcircle(\u001b[43mx\u001b[49m, y, size\u001b[38;5;241m=\u001b[39m\u001b[38;5;241m10\u001b[39m, color\u001b[38;5;241m=\u001b[39m\u001b[38;5;124m'\u001b[39m\u001b[38;5;124mblue\u001b[39m\u001b[38;5;124m'\u001b[39m, legend_label\u001b[38;5;241m=\u001b[39m\u001b[38;5;124m'\u001b[39m\u001b[38;5;124mData Points\u001b[39m\u001b[38;5;124m'\u001b[39m)\n\u001b[1;32m      8\u001b[0m p\u001b[38;5;241m.\u001b[39mline(x, y, line_width\u001b[38;5;241m=\u001b[39m\u001b[38;5;241m2\u001b[39m, color\u001b[38;5;241m=\u001b[39m\u001b[38;5;124m'\u001b[39m\u001b[38;5;124mred\u001b[39m\u001b[38;5;124m'\u001b[39m, legend_label\u001b[38;5;241m=\u001b[39m\u001b[38;5;124m'\u001b[39m\u001b[38;5;124mLine\u001b[39m\u001b[38;5;124m'\u001b[39m)\n\u001b[1;32m     10\u001b[0m \u001b[38;5;66;03m# Customize the appearance of the plot\u001b[39;00m\n",
      "\u001b[0;31mNameError\u001b[0m: name 'x' is not defined"
     ]
    }
   ],
   "source": [
    "from bokeh.plotting import figure, show\n",
    "\n",
    "# Create a Bokeh figure\n",
    "p = figure(outer_width=800, outer_height=400)\n",
    "\n",
    "# Add glyphs to the figure\n",
    "p.circle(x, y, size=10, color='blue', legend_label='Data Points')\n",
    "p.line(x, y, line_width=2, color='red', legend_label='Line')\n",
    "\n",
    "# Customize the appearance of the plot\n",
    "p.title.text = 'My Bokeh Plot'\n",
    "p.title.text_font_size = '20px'\n",
    "p.title.text_color = 'blue'\n",
    "\n",
    "p.xaxis.axis_label = 'X-axis'\n",
    "p.xaxis.axis_label_text_font_style = 'italic'\n",
    "\n",
    "p.yaxis.axis_label = 'Y-axis'\n",
    "p.yaxis.axis_label_text_color = 'green'\n",
    "\n",
    "p.legend.location = 'top_left'\n",
    "p.legend.label_text_font_style = 'bold'\n",
    "p.legend.label_text_color = 'purple'\n",
    "\n",
    "# Display the plot\n",
    "show(p)"
   ]
  },
  {
   "cell_type": "code",
   "execution_count": 35,
   "id": "fd3ada5f-e08b-451c-816d-d652075fc324",
   "metadata": {},
   "outputs": [],
   "source": [
    "## Q4"
   ]
  },
  {
   "cell_type": "code",
   "execution_count": 36,
   "id": "25576ba4-c40f-4ab1-af6e-f565841ef7ad",
   "metadata": {},
   "outputs": [
    {
     "data": {
      "text/plain": [
       "\"A Bokeh server is a Python library and server application that allows you to create interactive plots and applications with real-time updates. It enables you to build interactive dashboards, data exploration tools, and more, by combining Bokeh's powerful visualization capabilities with server-side processing and dynamic updates.\\n\\nWith the Bokeh server, you can create plots that respond to user interactions, such as zooming, panning, hovering, and clicking. You can also update the plot dynamically in response to changes in data or user input, allowing for real-time updates and interactive data exploration.\""
      ]
     },
     "execution_count": 36,
     "metadata": {},
     "output_type": "execute_result"
    }
   ],
   "source": [
    "\"\"\"A Bokeh server is a Python library and server application that allows you to create interactive plots and applications with real-time updates. It enables you to build interactive dashboards, data exploration tools, and more, by combining Bokeh's powerful visualization capabilities with server-side processing and dynamic updates.\n",
    "\n",
    "With the Bokeh server, you can create plots that respond to user interactions, such as zooming, panning, hovering, and clicking. You can also update the plot dynamically in response to changes in data or user input, allowing for real-time updates and interactive data exploration.\"\"\""
   ]
  },
  {
   "cell_type": "code",
   "execution_count": 37,
   "id": "f218f35d-3878-4bc1-bda5-30f7a2bd12d0",
   "metadata": {},
   "outputs": [],
   "source": [
    "# 1.Import the necessary modules:\n",
    "from bokeh.plotting import curdoc, figure\n",
    "from bokeh.models import ColumnDataSource\n",
    "from bokeh.io import show"
   ]
  },
  {
   "cell_type": "code",
   "execution_count": 39,
   "id": "b5967780-e69d-4f52-add0-4d417467773a",
   "metadata": {},
   "outputs": [],
   "source": [
    "# 2.Create a Bokeh figure and data source:\n",
    "p = figure()\n",
    "source = ColumnDataSource(data=dict(x=[], y=[]))"
   ]
  },
  {
   "cell_type": "code",
   "execution_count": 40,
   "id": "e8ddcd26-1820-4d34-9fb3-3020cf699f14",
   "metadata": {},
   "outputs": [],
   "source": [
    "# 3.Define a callback function to update the data:\n",
    "def update_data():\n",
    "    # Update the data source with new values\n",
    "    # Example: source.data = dict(x=new_x_values, y=new_y_values)\n",
    "    pass"
   ]
  },
  {
   "cell_type": "code",
   "execution_count": 42,
   "id": "fa56926e-95a9-4328-9756-613fe815aa6f",
   "metadata": {},
   "outputs": [],
   "source": [
    "# 4.Add interactive tools to the figure:\n",
    "p.add_tools()"
   ]
  },
  {
   "cell_type": "code",
   "execution_count": 43,
   "id": "c257df56-89c5-4edb-ad7b-f3b132a6defc",
   "metadata": {},
   "outputs": [
    {
     "ename": "NameError",
     "evalue": "name 'milliseconds' is not defined",
     "output_type": "error",
     "traceback": [
      "\u001b[0;31m---------------------------------------------------------------------------\u001b[0m",
      "\u001b[0;31mNameError\u001b[0m                                 Traceback (most recent call last)",
      "Cell \u001b[0;32mIn[43], line 3\u001b[0m\n\u001b[1;32m      1\u001b[0m \u001b[38;5;66;03m# 5.Add the figure and data source to the current document:\u001b[39;00m\n\u001b[1;32m      2\u001b[0m curdoc()\u001b[38;5;241m.\u001b[39madd_root(p)\n\u001b[0;32m----> 3\u001b[0m curdoc()\u001b[38;5;241m.\u001b[39madd_periodic_callback(update_data, \u001b[43mmilliseconds\u001b[49m)\n",
      "\u001b[0;31mNameError\u001b[0m: name 'milliseconds' is not defined"
     ]
    }
   ],
   "source": [
    "# 5.Add the figure and data source to the current document:\n",
    "curdoc().add_root(p)\n",
    "curdoc().add_periodic_callback(update_data, milliseconds)"
   ]
  },
  {
   "cell_type": "code",
   "execution_count": 46,
   "id": "0ed1b36b-7f6a-4bad-997d-a4d108fcffbb",
   "metadata": {},
   "outputs": [
    {
     "ename": "SyntaxError",
     "evalue": "invalid syntax (1202882568.py, line 2)",
     "output_type": "error",
     "traceback": [
      "\u001b[0;36m  Cell \u001b[0;32mIn[46], line 2\u001b[0;36m\u001b[0m\n\u001b[0;31m    bokeh serve --show your_script.py\u001b[0m\n\u001b[0m          ^\u001b[0m\n\u001b[0;31mSyntaxError\u001b[0m\u001b[0;31m:\u001b[0m invalid syntax\n"
     ]
    }
   ],
   "source": [
    "# 6.Run the Bokeh server to display and update the plot:\n",
    "bokeh serve --show your_script.py"
   ]
  },
  {
   "cell_type": "code",
   "execution_count": 47,
   "id": "a21bac85-b16f-4774-98eb-d932bf5e8ea6",
   "metadata": {},
   "outputs": [],
   "source": [
    "## Q5"
   ]
  },
  {
   "cell_type": "code",
   "execution_count": 49,
   "id": "a5e6f1f9-e8ea-4551-aea9-5ffaee2a8ba9",
   "metadata": {},
   "outputs": [
    {
     "name": "stderr",
     "output_type": "stream",
     "text": [
      "/tmp/ipykernel_1748/790585345.py:9: UserWarning: save() called but no resources were supplied and output_file(...) was never called, defaulting to resources.CDN\n",
      "  save(p, filename='path/to/plot.html')\n",
      "/tmp/ipykernel_1748/790585345.py:9: UserWarning: save() called but no title was supplied and output_file(...) was never called, using default title 'Bokeh Plot'\n",
      "  save(p, filename='path/to/plot.html')\n",
      "WARNING:bokeh.core.validation.check:W-1000 (MISSING_RENDERERS): Plot has no renderers: figure(id='p1437', ...)\n"
     ]
    },
    {
     "ename": "FileNotFoundError",
     "evalue": "[Errno 2] No such file or directory: 'path/to/plot.html'",
     "output_type": "error",
     "traceback": [
      "\u001b[0;31m---------------------------------------------------------------------------\u001b[0m",
      "\u001b[0;31mFileNotFoundError\u001b[0m                         Traceback (most recent call last)",
      "Cell \u001b[0;32mIn[49], line 9\u001b[0m\n\u001b[1;32m      6\u001b[0m p \u001b[38;5;241m=\u001b[39m figure()\n\u001b[1;32m      8\u001b[0m \u001b[38;5;66;03m# Save the plot as HTML file\u001b[39;00m\n\u001b[0;32m----> 9\u001b[0m \u001b[43msave\u001b[49m\u001b[43m(\u001b[49m\u001b[43mp\u001b[49m\u001b[43m,\u001b[49m\u001b[43m \u001b[49m\u001b[43mfilename\u001b[49m\u001b[38;5;241;43m=\u001b[39;49m\u001b[38;5;124;43m'\u001b[39;49m\u001b[38;5;124;43mpath/to/plot.html\u001b[39;49m\u001b[38;5;124;43m'\u001b[39;49m\u001b[43m)\u001b[49m\n",
      "File \u001b[0;32m/opt/conda/lib/python3.10/site-packages/bokeh/io/saving.py:98\u001b[0m, in \u001b[0;36msave\u001b[0;34m(obj, filename, resources, title, template, state)\u001b[0m\n\u001b[1;32m     95\u001b[0m theme \u001b[38;5;241m=\u001b[39m state\u001b[38;5;241m.\u001b[39mdocument\u001b[38;5;241m.\u001b[39mtheme\n\u001b[1;32m     97\u001b[0m filename, resources, title \u001b[38;5;241m=\u001b[39m _get_save_args(state, filename, resources, title)\n\u001b[0;32m---> 98\u001b[0m \u001b[43m_save_helper\u001b[49m\u001b[43m(\u001b[49m\u001b[43mobj\u001b[49m\u001b[43m,\u001b[49m\u001b[43m \u001b[49m\u001b[43mfilename\u001b[49m\u001b[43m,\u001b[49m\u001b[43m \u001b[49m\u001b[43mresources\u001b[49m\u001b[43m,\u001b[49m\u001b[43m \u001b[49m\u001b[43mtitle\u001b[49m\u001b[43m,\u001b[49m\u001b[43m \u001b[49m\u001b[43mtemplate\u001b[49m\u001b[43m,\u001b[49m\u001b[43m \u001b[49m\u001b[43mtheme\u001b[49m\u001b[43m)\u001b[49m\n\u001b[1;32m     99\u001b[0m \u001b[38;5;28;01mreturn\u001b[39;00m abspath(expanduser(filename))\n",
      "File \u001b[0;32m/opt/conda/lib/python3.10/site-packages/bokeh/io/saving.py:166\u001b[0m, in \u001b[0;36m_save_helper\u001b[0;34m(obj, filename, resources, title, template, theme)\u001b[0m\n\u001b[1;32m    163\u001b[0m \u001b[38;5;28;01mfrom\u001b[39;00m \u001b[38;5;21;01m.\u001b[39;00m\u001b[38;5;21;01m.\u001b[39;00m\u001b[38;5;21;01membed\u001b[39;00m \u001b[38;5;28;01mimport\u001b[39;00m file_html\n\u001b[1;32m    164\u001b[0m html \u001b[38;5;241m=\u001b[39m file_html(obj, resources, title\u001b[38;5;241m=\u001b[39mtitle, template\u001b[38;5;241m=\u001b[39mtemplate \u001b[38;5;129;01mor\u001b[39;00m FILE, theme\u001b[38;5;241m=\u001b[39mtheme)\n\u001b[0;32m--> 166\u001b[0m \u001b[38;5;28;01mwith\u001b[39;00m \u001b[38;5;28;43mopen\u001b[39;49m\u001b[43m(\u001b[49m\u001b[43mfilename\u001b[49m\u001b[43m,\u001b[49m\u001b[43m \u001b[49m\u001b[43mmode\u001b[49m\u001b[38;5;241;43m=\u001b[39;49m\u001b[38;5;124;43m\"\u001b[39;49m\u001b[38;5;124;43mw\u001b[39;49m\u001b[38;5;124;43m\"\u001b[39;49m\u001b[43m,\u001b[49m\u001b[43m \u001b[49m\u001b[43mencoding\u001b[49m\u001b[38;5;241;43m=\u001b[39;49m\u001b[38;5;124;43m\"\u001b[39;49m\u001b[38;5;124;43mutf-8\u001b[39;49m\u001b[38;5;124;43m\"\u001b[39;49m\u001b[43m)\u001b[49m \u001b[38;5;28;01mas\u001b[39;00m f:\n\u001b[1;32m    167\u001b[0m     f\u001b[38;5;241m.\u001b[39mwrite(html)\n",
      "\u001b[0;31mFileNotFoundError\u001b[0m: [Errno 2] No such file or directory: 'path/to/plot.html'"
     ]
    }
   ],
   "source": [
    "# 1.Create the Bokeh plot as you normally would using the Bokeh library.\n",
    "# 2.Save the Bokeh plot as an HTML file using the save() function. Specify the filename and path where you want to save the file.\n",
    "from bokeh.plotting import figure, save\n",
    "\n",
    "# Create the Bokeh plot\n",
    "p = figure()\n",
    "\n",
    "# Save the plot as HTML file\n",
    "save(p, filename='path/to/plot.html')"
   ]
  },
  {
   "cell_type": "code",
   "execution_count": null,
   "id": "161057e1-147e-483f-8613-5bf79a0962bb",
   "metadata": {},
   "outputs": [],
   "source": []
  }
 ],
 "metadata": {
  "kernelspec": {
   "display_name": "Python 3 (ipykernel)",
   "language": "python",
   "name": "python3"
  },
  "language_info": {
   "codemirror_mode": {
    "name": "ipython",
    "version": 3
   },
   "file_extension": ".py",
   "mimetype": "text/x-python",
   "name": "python",
   "nbconvert_exporter": "python",
   "pygments_lexer": "ipython3",
   "version": "3.10.8"
  }
 },
 "nbformat": 4,
 "nbformat_minor": 5
}
